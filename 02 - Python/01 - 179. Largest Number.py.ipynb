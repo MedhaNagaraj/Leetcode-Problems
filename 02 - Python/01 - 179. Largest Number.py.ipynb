{
 "cells": [
  {
   "cell_type": "markdown",
   "metadata": {},
   "source": [
    "### Given a list of non negative integers, arrange them such that they form the largest number.\n",
    "\n",
    "#### Example 1:\n",
    "\n",
    "Input: [10,2]\n",
    "Output: \"210\"\n",
    "\n",
    "#### Example 2:\n",
    "\n",
    "Input: [3,30,34,5,9]\n",
    "Output: \"9534330\"\n",
    "\n",
    "Note: The result may be very large, so you need to return a string instead of an integer."
   ]
  },
  {
   "cell_type": "code",
   "execution_count": 1,
   "metadata": {},
   "outputs": [
    {
     "name": "stdout",
     "output_type": "stream",
     "text": [
      "9534330\n"
     ]
    }
   ],
   "source": [
    "from itertools import permutations \n",
    "perm = []\n",
    "xlist = []\n",
    "lst = [3,34,5,30,9]\n",
    "\n",
    "perm = permutations(lst) \n",
    "\n",
    "x = ''\n",
    "\n",
    "for i in perm:\n",
    "    for j in i:\n",
    "        x = x + str(j)\n",
    "#        print(x)\n",
    "    xlist.append(int(x))\n",
    "    x = ''\n",
    "#    print(xlist)\n",
    "\n",
    "result = max(xlist)\n",
    "print(result)"
   ]
  },
  {
   "cell_type": "code",
   "execution_count": null,
   "metadata": {},
   "outputs": [],
   "source": []
  }
 ],
 "metadata": {
  "kernelspec": {
   "display_name": "Python 3",
   "language": "python",
   "name": "python3"
  },
  "language_info": {
   "codemirror_mode": {
    "name": "ipython",
    "version": 3
   },
   "file_extension": ".py",
   "mimetype": "text/x-python",
   "name": "python",
   "nbconvert_exporter": "python",
   "pygments_lexer": "ipython3",
   "version": "3.7.1"
  }
 },
 "nbformat": 4,
 "nbformat_minor": 2
}
